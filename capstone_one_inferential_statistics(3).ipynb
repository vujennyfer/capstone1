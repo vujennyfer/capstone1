{
 "cells": [
  {
   "cell_type": "markdown",
   "metadata": {},
   "source": [
    "# Inferential Statistics:\n",
    "    \n",
    "Are there variables that are particularly significant in terms of explaining the answer to your project question?\n",
    "\n",
    "Variables such as price of the house, number of bedrooms, bathrooms, square footage, location (zipcode) of a property. All of these factor into the purchase price of a home. By exploring how these variables affect the price of a property, we will be able to better answer the project question to help homebuyers make more confident offers. \n",
    "\n",
    "Are there strong correlations between pairs of independent variables or between an independent and a dependent variable?\n",
    "\n",
    "There appears to be a strong correlation between average price and location of a property. The location of the property is the independent variable and the price of the home is the dependent variable. From the data visualizations that we have done, it appears that the closer the property is to Seattle metropolitan area, the higher the value of the home. This suggests that homebuyers are willing to pay a higher premium for convenience to the larger city for work, tourism, restaurants etc. \n",
    "\n"
   ]
  },
  {
   "cell_type": "code",
   "execution_count": 1,
   "metadata": {},
   "outputs": [],
   "source": [
    "# Looking at filtering of cheap houses vs. expensive houses\n",
    "# From there, filter down further. Cheap houses? What zipcodes are most popular? \n",
    "# Most expensive zipcodes?\n",
    "# 98039 "
   ]
  },
  {
   "cell_type": "code",
   "execution_count": 2,
   "metadata": {},
   "outputs": [],
   "source": [
    "# Importing the libraries\n",
    "import pandas as pd\n",
    "import matplotlib.pyplot as plt\n",
    "import numpy as np\n",
    "import seaborn as sns \n",
    "import geopandas as gpd"
   ]
  },
  {
   "cell_type": "code",
   "execution_count": 3,
   "metadata": {},
   "outputs": [
    {
     "data": {
      "text/html": [
       "<div>\n",
       "<style scoped>\n",
       "    .dataframe tbody tr th:only-of-type {\n",
       "        vertical-align: middle;\n",
       "    }\n",
       "\n",
       "    .dataframe tbody tr th {\n",
       "        vertical-align: top;\n",
       "    }\n",
       "\n",
       "    .dataframe thead th {\n",
       "        text-align: right;\n",
       "    }\n",
       "</style>\n",
       "<table border=\"1\" class=\"dataframe\">\n",
       "  <thead>\n",
       "    <tr style=\"text-align: right;\">\n",
       "      <th></th>\n",
       "      <th>id</th>\n",
       "      <th>date</th>\n",
       "      <th>price</th>\n",
       "      <th>bedrooms</th>\n",
       "      <th>bathrooms</th>\n",
       "      <th>sqft_living</th>\n",
       "      <th>sqft_lot</th>\n",
       "      <th>floors</th>\n",
       "      <th>waterfront</th>\n",
       "      <th>view</th>\n",
       "      <th>...</th>\n",
       "      <th>grade</th>\n",
       "      <th>sqft_above</th>\n",
       "      <th>sqft_basement</th>\n",
       "      <th>yr_built</th>\n",
       "      <th>yr_renovated</th>\n",
       "      <th>zipcode</th>\n",
       "      <th>lat</th>\n",
       "      <th>long</th>\n",
       "      <th>sqft_living15</th>\n",
       "      <th>sqft_lot15</th>\n",
       "    </tr>\n",
       "  </thead>\n",
       "  <tbody>\n",
       "    <tr>\n",
       "      <th>0</th>\n",
       "      <td>7129300520</td>\n",
       "      <td>20141013T000000</td>\n",
       "      <td>221900.0</td>\n",
       "      <td>3</td>\n",
       "      <td>1.00</td>\n",
       "      <td>1180</td>\n",
       "      <td>5650</td>\n",
       "      <td>1.0</td>\n",
       "      <td>0</td>\n",
       "      <td>0</td>\n",
       "      <td>...</td>\n",
       "      <td>7</td>\n",
       "      <td>1180</td>\n",
       "      <td>0</td>\n",
       "      <td>1955</td>\n",
       "      <td>0</td>\n",
       "      <td>98178</td>\n",
       "      <td>47.5112</td>\n",
       "      <td>-122.257</td>\n",
       "      <td>1340</td>\n",
       "      <td>5650</td>\n",
       "    </tr>\n",
       "    <tr>\n",
       "      <th>1</th>\n",
       "      <td>6414100192</td>\n",
       "      <td>20141209T000000</td>\n",
       "      <td>538000.0</td>\n",
       "      <td>3</td>\n",
       "      <td>2.25</td>\n",
       "      <td>2570</td>\n",
       "      <td>7242</td>\n",
       "      <td>2.0</td>\n",
       "      <td>0</td>\n",
       "      <td>0</td>\n",
       "      <td>...</td>\n",
       "      <td>7</td>\n",
       "      <td>2170</td>\n",
       "      <td>400</td>\n",
       "      <td>1951</td>\n",
       "      <td>1991</td>\n",
       "      <td>98125</td>\n",
       "      <td>47.7210</td>\n",
       "      <td>-122.319</td>\n",
       "      <td>1690</td>\n",
       "      <td>7639</td>\n",
       "    </tr>\n",
       "    <tr>\n",
       "      <th>2</th>\n",
       "      <td>5631500400</td>\n",
       "      <td>20150225T000000</td>\n",
       "      <td>180000.0</td>\n",
       "      <td>2</td>\n",
       "      <td>1.00</td>\n",
       "      <td>770</td>\n",
       "      <td>10000</td>\n",
       "      <td>1.0</td>\n",
       "      <td>0</td>\n",
       "      <td>0</td>\n",
       "      <td>...</td>\n",
       "      <td>6</td>\n",
       "      <td>770</td>\n",
       "      <td>0</td>\n",
       "      <td>1933</td>\n",
       "      <td>0</td>\n",
       "      <td>98028</td>\n",
       "      <td>47.7379</td>\n",
       "      <td>-122.233</td>\n",
       "      <td>2720</td>\n",
       "      <td>8062</td>\n",
       "    </tr>\n",
       "    <tr>\n",
       "      <th>3</th>\n",
       "      <td>2487200875</td>\n",
       "      <td>20141209T000000</td>\n",
       "      <td>604000.0</td>\n",
       "      <td>4</td>\n",
       "      <td>3.00</td>\n",
       "      <td>1960</td>\n",
       "      <td>5000</td>\n",
       "      <td>1.0</td>\n",
       "      <td>0</td>\n",
       "      <td>0</td>\n",
       "      <td>...</td>\n",
       "      <td>7</td>\n",
       "      <td>1050</td>\n",
       "      <td>910</td>\n",
       "      <td>1965</td>\n",
       "      <td>0</td>\n",
       "      <td>98136</td>\n",
       "      <td>47.5208</td>\n",
       "      <td>-122.393</td>\n",
       "      <td>1360</td>\n",
       "      <td>5000</td>\n",
       "    </tr>\n",
       "    <tr>\n",
       "      <th>4</th>\n",
       "      <td>1954400510</td>\n",
       "      <td>20150218T000000</td>\n",
       "      <td>510000.0</td>\n",
       "      <td>3</td>\n",
       "      <td>2.00</td>\n",
       "      <td>1680</td>\n",
       "      <td>8080</td>\n",
       "      <td>1.0</td>\n",
       "      <td>0</td>\n",
       "      <td>0</td>\n",
       "      <td>...</td>\n",
       "      <td>8</td>\n",
       "      <td>1680</td>\n",
       "      <td>0</td>\n",
       "      <td>1987</td>\n",
       "      <td>0</td>\n",
       "      <td>98074</td>\n",
       "      <td>47.6168</td>\n",
       "      <td>-122.045</td>\n",
       "      <td>1800</td>\n",
       "      <td>7503</td>\n",
       "    </tr>\n",
       "  </tbody>\n",
       "</table>\n",
       "<p>5 rows × 21 columns</p>\n",
       "</div>"
      ],
      "text/plain": [
       "           id             date     price  bedrooms  bathrooms  sqft_living  \\\n",
       "0  7129300520  20141013T000000  221900.0         3       1.00         1180   \n",
       "1  6414100192  20141209T000000  538000.0         3       2.25         2570   \n",
       "2  5631500400  20150225T000000  180000.0         2       1.00          770   \n",
       "3  2487200875  20141209T000000  604000.0         4       3.00         1960   \n",
       "4  1954400510  20150218T000000  510000.0         3       2.00         1680   \n",
       "\n",
       "   sqft_lot  floors  waterfront  view     ...      grade  sqft_above  \\\n",
       "0      5650     1.0           0     0     ...          7        1180   \n",
       "1      7242     2.0           0     0     ...          7        2170   \n",
       "2     10000     1.0           0     0     ...          6         770   \n",
       "3      5000     1.0           0     0     ...          7        1050   \n",
       "4      8080     1.0           0     0     ...          8        1680   \n",
       "\n",
       "   sqft_basement  yr_built  yr_renovated  zipcode      lat     long  \\\n",
       "0              0      1955             0    98178  47.5112 -122.257   \n",
       "1            400      1951          1991    98125  47.7210 -122.319   \n",
       "2              0      1933             0    98028  47.7379 -122.233   \n",
       "3            910      1965             0    98136  47.5208 -122.393   \n",
       "4              0      1987             0    98074  47.6168 -122.045   \n",
       "\n",
       "   sqft_living15  sqft_lot15  \n",
       "0           1340        5650  \n",
       "1           1690        7639  \n",
       "2           2720        8062  \n",
       "3           1360        5000  \n",
       "4           1800        7503  \n",
       "\n",
       "[5 rows x 21 columns]"
      ]
     },
     "execution_count": 3,
     "metadata": {},
     "output_type": "execute_result"
    }
   ],
   "source": [
    "# Importing the dataframe\n",
    "df = pd.read_csv('C:/Users/jwhoj/Desktop/Capstone_1/KC_house_data.csv')\n",
    "df.head()"
   ]
  },
  {
   "cell_type": "code",
   "execution_count": null,
   "metadata": {},
   "outputs": [],
   "source": [
    "# Convert zipcode to categorical value, this is due to zipcode nature of random numbers not having numberical value\n",
    "# Using zipcodes as categorical will allow us to detect differences between zipcodes "
   ]
  },
  {
   "cell_type": "code",
   "execution_count": 17,
   "metadata": {},
   "outputs": [],
   "source": [
    "cat_zip = df['zipcode'].astype('category')"
   ]
  },
  {
   "cell_type": "code",
   "execution_count": 18,
   "metadata": {},
   "outputs": [
    {
     "data": {
      "text/plain": [
       "0        98178\n",
       "1        98125\n",
       "2        98028\n",
       "3        98136\n",
       "4        98074\n",
       "5        98053\n",
       "6        98003\n",
       "7        98198\n",
       "8        98146\n",
       "9        98038\n",
       "10       98007\n",
       "11       98115\n",
       "12       98028\n",
       "13       98074\n",
       "14       98107\n",
       "15       98126\n",
       "16       98019\n",
       "17       98103\n",
       "18       98002\n",
       "19       98003\n",
       "20       98133\n",
       "21       98040\n",
       "22       98092\n",
       "23       98030\n",
       "24       98030\n",
       "25       98002\n",
       "26       98119\n",
       "27       98112\n",
       "28       98115\n",
       "29       98052\n",
       "         ...  \n",
       "21583    98102\n",
       "21584    98116\n",
       "21585    98042\n",
       "21586    98107\n",
       "21587    98125\n",
       "21588    98117\n",
       "21589    98038\n",
       "21590    98074\n",
       "21591    98178\n",
       "21592    98103\n",
       "21593    98056\n",
       "21594    98042\n",
       "21595    98103\n",
       "21596    98059\n",
       "21597    98040\n",
       "21598    98001\n",
       "21599    98053\n",
       "21600    98004\n",
       "21601    98125\n",
       "21602    98010\n",
       "21603    98065\n",
       "21604    98144\n",
       "21605    98056\n",
       "21606    98136\n",
       "21607    98116\n",
       "21608    98103\n",
       "21609    98146\n",
       "21610    98144\n",
       "21611    98027\n",
       "21612    98144\n",
       "Name: zipcode, Length: 21613, dtype: category\n",
       "Categories (70, int64): [98001, 98002, 98003, 98004, ..., 98178, 98188, 98198, 98199]"
      ]
     },
     "execution_count": 18,
     "metadata": {},
     "output_type": "execute_result"
    }
   ],
   "source": [
    "cat_zip"
   ]
  },
  {
   "cell_type": "code",
   "execution_count": 5,
   "metadata": {},
   "outputs": [
    {
     "name": "stdout",
     "output_type": "stream",
     "text": [
      "21613\n",
      "21\n"
     ]
    }
   ],
   "source": [
    "count_row = df.shape[0]  # gives number of row count\n",
    "count_col = df.shape[1]  # gives number of col count\n",
    "print(count_row)\n",
    "print(count_col)"
   ]
  },
  {
   "cell_type": "code",
   "execution_count": 6,
   "metadata": {},
   "outputs": [
    {
     "data": {
      "text/plain": [
       "98103    602\n",
       "98038    590\n",
       "98115    583\n",
       "98052    574\n",
       "98117    553\n",
       "98042    548\n",
       "98034    545\n",
       "98118    508\n",
       "98023    499\n",
       "98006    498\n",
       "Name: zipcode, dtype: int64"
      ]
     },
     "execution_count": 6,
     "metadata": {},
     "output_type": "execute_result"
    }
   ],
   "source": [
    "# How many houses are in each zipcode?\n",
    "df['zipcode'].value_counts().head(10)"
   ]
  },
  {
   "cell_type": "code",
   "execution_count": 7,
   "metadata": {},
   "outputs": [
    {
     "data": {
      "text/plain": [
       "540182.1587933188"
      ]
     },
     "execution_count": 7,
     "metadata": {},
     "output_type": "execute_result"
    }
   ],
   "source": [
    "# Calculate mean of prices in King County\n",
    "np.mean(df['price'])"
   ]
  },
  {
   "cell_type": "code",
   "execution_count": 8,
   "metadata": {},
   "outputs": [],
   "source": [
    "# Create dataframe of more affordable housing < 500k\n",
    "cheap = df[(df['price'] < 500000) & \n",
    "                                           (df['price'] > 0) ]"
   ]
  },
  {
   "cell_type": "code",
   "execution_count": 9,
   "metadata": {},
   "outputs": [
    {
     "data": {
      "text/plain": [
       "338387.4663926499"
      ]
     },
     "execution_count": 9,
     "metadata": {},
     "output_type": "execute_result"
    }
   ],
   "source": [
    "# Mean of more affordable houses \n",
    "np.mean(cheap['price'])"
   ]
  },
  {
   "cell_type": "code",
   "execution_count": 10,
   "metadata": {
    "scrolled": true
   },
   "outputs": [
    {
     "data": {
      "text/plain": [
       "98042    524\n",
       "98038    518\n",
       "98023    477\n",
       "98133    432\n",
       "98058    418\n",
       "98118    393\n",
       "98034    378\n",
       "98155    364\n",
       "98001    347\n",
       "98092    325\n",
       "Name: zipcode, dtype: int64"
      ]
     },
     "execution_count": 10,
     "metadata": {},
     "output_type": "execute_result"
    }
   ],
   "source": [
    "cheap['zipcode'].value_counts().head(10)"
   ]
  },
  {
   "cell_type": "code",
   "execution_count": 11,
   "metadata": {},
   "outputs": [],
   "source": [
    "# Create dataframe of more expensive housing > 500k\n",
    "expensive = df[(df['price'] > 500000)]"
   ]
  },
  {
   "cell_type": "code",
   "execution_count": 12,
   "metadata": {},
   "outputs": [
    {
     "data": {
      "text/plain": [
       "817435.6914834861"
      ]
     },
     "execution_count": 12,
     "metadata": {},
     "output_type": "execute_result"
    }
   ],
   "source": [
    "np.mean(expensive['price'])"
   ]
  },
  {
   "cell_type": "code",
   "execution_count": 13,
   "metadata": {
    "scrolled": true
   },
   "outputs": [
    {
     "data": {
      "text/html": [
       "<div>\n",
       "<style scoped>\n",
       "    .dataframe tbody tr th:only-of-type {\n",
       "        vertical-align: middle;\n",
       "    }\n",
       "\n",
       "    .dataframe tbody tr th {\n",
       "        vertical-align: top;\n",
       "    }\n",
       "\n",
       "    .dataframe thead th {\n",
       "        text-align: right;\n",
       "    }\n",
       "</style>\n",
       "<table border=\"1\" class=\"dataframe\">\n",
       "  <thead>\n",
       "    <tr style=\"text-align: right;\">\n",
       "      <th></th>\n",
       "      <th>id</th>\n",
       "      <th>date</th>\n",
       "      <th>price</th>\n",
       "      <th>bedrooms</th>\n",
       "      <th>bathrooms</th>\n",
       "      <th>sqft_living</th>\n",
       "      <th>sqft_lot</th>\n",
       "      <th>floors</th>\n",
       "      <th>waterfront</th>\n",
       "      <th>view</th>\n",
       "      <th>...</th>\n",
       "      <th>grade</th>\n",
       "      <th>sqft_above</th>\n",
       "      <th>sqft_basement</th>\n",
       "      <th>yr_built</th>\n",
       "      <th>yr_renovated</th>\n",
       "      <th>zipcode</th>\n",
       "      <th>lat</th>\n",
       "      <th>long</th>\n",
       "      <th>sqft_living15</th>\n",
       "      <th>sqft_lot15</th>\n",
       "    </tr>\n",
       "  </thead>\n",
       "  <tbody>\n",
       "    <tr>\n",
       "      <th>1</th>\n",
       "      <td>6414100192</td>\n",
       "      <td>20141209T000000</td>\n",
       "      <td>538000.0</td>\n",
       "      <td>3</td>\n",
       "      <td>2.25</td>\n",
       "      <td>2570</td>\n",
       "      <td>7242</td>\n",
       "      <td>2.0</td>\n",
       "      <td>0</td>\n",
       "      <td>0</td>\n",
       "      <td>...</td>\n",
       "      <td>7</td>\n",
       "      <td>2170</td>\n",
       "      <td>400</td>\n",
       "      <td>1951</td>\n",
       "      <td>1991</td>\n",
       "      <td>98125</td>\n",
       "      <td>47.7210</td>\n",
       "      <td>-122.319</td>\n",
       "      <td>1690</td>\n",
       "      <td>7639</td>\n",
       "    </tr>\n",
       "    <tr>\n",
       "      <th>3</th>\n",
       "      <td>2487200875</td>\n",
       "      <td>20141209T000000</td>\n",
       "      <td>604000.0</td>\n",
       "      <td>4</td>\n",
       "      <td>3.00</td>\n",
       "      <td>1960</td>\n",
       "      <td>5000</td>\n",
       "      <td>1.0</td>\n",
       "      <td>0</td>\n",
       "      <td>0</td>\n",
       "      <td>...</td>\n",
       "      <td>7</td>\n",
       "      <td>1050</td>\n",
       "      <td>910</td>\n",
       "      <td>1965</td>\n",
       "      <td>0</td>\n",
       "      <td>98136</td>\n",
       "      <td>47.5208</td>\n",
       "      <td>-122.393</td>\n",
       "      <td>1360</td>\n",
       "      <td>5000</td>\n",
       "    </tr>\n",
       "    <tr>\n",
       "      <th>4</th>\n",
       "      <td>1954400510</td>\n",
       "      <td>20150218T000000</td>\n",
       "      <td>510000.0</td>\n",
       "      <td>3</td>\n",
       "      <td>2.00</td>\n",
       "      <td>1680</td>\n",
       "      <td>8080</td>\n",
       "      <td>1.0</td>\n",
       "      <td>0</td>\n",
       "      <td>0</td>\n",
       "      <td>...</td>\n",
       "      <td>8</td>\n",
       "      <td>1680</td>\n",
       "      <td>0</td>\n",
       "      <td>1987</td>\n",
       "      <td>0</td>\n",
       "      <td>98074</td>\n",
       "      <td>47.6168</td>\n",
       "      <td>-122.045</td>\n",
       "      <td>1800</td>\n",
       "      <td>7503</td>\n",
       "    </tr>\n",
       "    <tr>\n",
       "      <th>5</th>\n",
       "      <td>7237550310</td>\n",
       "      <td>20140512T000000</td>\n",
       "      <td>1230000.0</td>\n",
       "      <td>4</td>\n",
       "      <td>4.50</td>\n",
       "      <td>5420</td>\n",
       "      <td>101930</td>\n",
       "      <td>1.0</td>\n",
       "      <td>0</td>\n",
       "      <td>0</td>\n",
       "      <td>...</td>\n",
       "      <td>11</td>\n",
       "      <td>3890</td>\n",
       "      <td>1530</td>\n",
       "      <td>2001</td>\n",
       "      <td>0</td>\n",
       "      <td>98053</td>\n",
       "      <td>47.6561</td>\n",
       "      <td>-122.005</td>\n",
       "      <td>4760</td>\n",
       "      <td>101930</td>\n",
       "    </tr>\n",
       "    <tr>\n",
       "      <th>10</th>\n",
       "      <td>1736800520</td>\n",
       "      <td>20150403T000000</td>\n",
       "      <td>662500.0</td>\n",
       "      <td>3</td>\n",
       "      <td>2.50</td>\n",
       "      <td>3560</td>\n",
       "      <td>9796</td>\n",
       "      <td>1.0</td>\n",
       "      <td>0</td>\n",
       "      <td>0</td>\n",
       "      <td>...</td>\n",
       "      <td>8</td>\n",
       "      <td>1860</td>\n",
       "      <td>1700</td>\n",
       "      <td>1965</td>\n",
       "      <td>0</td>\n",
       "      <td>98007</td>\n",
       "      <td>47.6007</td>\n",
       "      <td>-122.145</td>\n",
       "      <td>2210</td>\n",
       "      <td>8925</td>\n",
       "    </tr>\n",
       "  </tbody>\n",
       "</table>\n",
       "<p>5 rows × 21 columns</p>\n",
       "</div>"
      ],
      "text/plain": [
       "            id             date      price  bedrooms  bathrooms  sqft_living  \\\n",
       "1   6414100192  20141209T000000   538000.0         3       2.25         2570   \n",
       "3   2487200875  20141209T000000   604000.0         4       3.00         1960   \n",
       "4   1954400510  20150218T000000   510000.0         3       2.00         1680   \n",
       "5   7237550310  20140512T000000  1230000.0         4       4.50         5420   \n",
       "10  1736800520  20150403T000000   662500.0         3       2.50         3560   \n",
       "\n",
       "    sqft_lot  floors  waterfront  view     ...      grade  sqft_above  \\\n",
       "1       7242     2.0           0     0     ...          7        2170   \n",
       "3       5000     1.0           0     0     ...          7        1050   \n",
       "4       8080     1.0           0     0     ...          8        1680   \n",
       "5     101930     1.0           0     0     ...         11        3890   \n",
       "10      9796     1.0           0     0     ...          8        1860   \n",
       "\n",
       "    sqft_basement  yr_built  yr_renovated  zipcode      lat     long  \\\n",
       "1             400      1951          1991    98125  47.7210 -122.319   \n",
       "3             910      1965             0    98136  47.5208 -122.393   \n",
       "4               0      1987             0    98074  47.6168 -122.045   \n",
       "5            1530      2001             0    98053  47.6561 -122.005   \n",
       "10           1700      1965             0    98007  47.6007 -122.145   \n",
       "\n",
       "    sqft_living15  sqft_lot15  \n",
       "1            1690        7639  \n",
       "3            1360        5000  \n",
       "4            1800        7503  \n",
       "5            4760      101930  \n",
       "10           2210        8925  \n",
       "\n",
       "[5 rows x 21 columns]"
      ]
     },
     "execution_count": 13,
     "metadata": {},
     "output_type": "execute_result"
    }
   ],
   "source": [
    "expensive.head()"
   ]
  },
  {
   "cell_type": "code",
   "execution_count": 14,
   "metadata": {},
   "outputs": [],
   "source": [
    "price = (df['price'])"
   ]
  },
  {
   "cell_type": "markdown",
   "metadata": {},
   "source": [
    "# One-Way ANOVA"
   ]
  },
  {
   "cell_type": "markdown",
   "metadata": {},
   "source": [
    "We will be taking a look at Analysis of Variance Test or ANOVA. We will be conducting the One-Way ANOVA to \n",
    "compare if the mean price of multiple zipcodes are equal. Whereas the Two-Way ANOVA compares two or more variables and \n",
    "how they are related to the variable in question. \n",
    "\n",
    "Null hypothesis: The mean price between different zipcodes are the same. \n",
    "    \n",
    "Alternative hypothesis: The mean price between different zipcodes are different. "
   ]
  },
  {
   "cell_type": "code",
   "execution_count": 15,
   "metadata": {},
   "outputs": [],
   "source": [
    "import plotly.plotly as py\n",
    "import plotly.graph_objs as go\n",
    "from plotly.tools import FigureFactory as FF\n",
    "\n",
    "import numpy as np\n",
    "import pandas as pd\n",
    "import scipy\n",
    "\n",
    "import statsmodels\n",
    "import statsmodels.api as sm\n",
    "from statsmodels.formula.api import ols"
   ]
  },
  {
   "cell_type": "code",
   "execution_count": 19,
   "metadata": {
    "scrolled": false
   },
   "outputs": [
    {
     "name": "stdout",
     "output_type": "stream",
     "text": [
      "                            OLS Regression Results                            \n",
      "==============================================================================\n",
      "Dep. Variable:                  price   R-squared:                       0.407\n",
      "Model:                            OLS   Adj. R-squared:                  0.405\n",
      "Method:                 Least Squares   F-statistic:                     214.6\n",
      "Date:                Fri, 26 Apr 2019   Prob (F-statistic):               0.00\n",
      "Time:                        19:55:01   Log-Likelihood:            -3.0197e+05\n",
      "No. Observations:               21613   AIC:                         6.041e+05\n",
      "Df Residuals:                   21543   BIC:                         6.046e+05\n",
      "Df Model:                          69                                         \n",
      "Covariance Type:            nonrobust                                         \n",
      "====================================================================================\n",
      "                       coef    std err          t      P>|t|      [0.025      0.975]\n",
      "------------------------------------------------------------------------------------\n",
      "Intercept         2.808e+05   1.49e+04     18.861      0.000    2.52e+05     3.1e+05\n",
      "cat_zip[T.98002] -4.652e+04    2.5e+04     -1.861      0.063   -9.55e+04    2476.469\n",
      "cat_zip[T.98003]  1.331e+04   2.25e+04      0.590      0.555   -3.09e+04    5.75e+04\n",
      "cat_zip[T.98004]  1.076e+06   2.18e+04     49.369      0.000    1.03e+06    1.12e+06\n",
      "cat_zip[T.98005]  5.295e+05   2.64e+04     20.023      0.000    4.78e+05    5.81e+05\n",
      "cat_zip[T.98006]  5.791e+05   1.96e+04     29.601      0.000    5.41e+05    6.17e+05\n",
      "cat_zip[T.98007]  3.364e+05   2.81e+04     11.965      0.000    2.81e+05    3.92e+05\n",
      "cat_zip[T.98008]  3.648e+05   2.25e+04     16.231      0.000    3.21e+05    4.09e+05\n",
      "cat_zip[T.98010]  1.429e+05    3.2e+04      4.464      0.000    8.01e+04    2.06e+05\n",
      "cat_zip[T.98011]  2.096e+05   2.52e+04      8.329      0.000     1.6e+05    2.59e+05\n",
      "cat_zip[T.98014]  1.748e+05   2.95e+04      5.931      0.000    1.17e+05    2.33e+05\n",
      "cat_zip[T.98019]   1.44e+05   2.54e+04      5.675      0.000    9.43e+04    1.94e+05\n",
      "cat_zip[T.98022]   3.49e+04   2.38e+04      1.469      0.142   -1.17e+04    8.15e+04\n",
      "cat_zip[T.98023]  5938.1210   1.96e+04      0.304      0.761   -3.24e+04    4.43e+04\n",
      "cat_zip[T.98024]  2.998e+05   3.48e+04      8.611      0.000    2.32e+05    3.68e+05\n",
      "cat_zip[T.98027]  3.362e+05   2.04e+04     16.478      0.000    2.96e+05    3.76e+05\n",
      "cat_zip[T.98028]  1.817e+05   2.25e+04      8.083      0.000    1.38e+05    2.26e+05\n",
      "cat_zip[T.98029]  3.318e+05   2.17e+04     15.280      0.000    2.89e+05    3.74e+05\n",
      "cat_zip[T.98030]  1.538e+04   2.31e+04      0.665      0.506      -3e+04    6.07e+04\n",
      "cat_zip[T.98031]  1.974e+04   2.27e+04      0.870      0.384   -2.47e+04    6.42e+04\n",
      "cat_zip[T.98032] -2.951e+04   2.94e+04     -1.004      0.315   -8.71e+04    2.81e+04\n",
      "cat_zip[T.98033]  5.232e+05   2.02e+04     25.921      0.000    4.84e+05    5.63e+05\n",
      "cat_zip[T.98034]  2.409e+05   1.92e+04     12.544      0.000    2.03e+05    2.79e+05\n",
      "cat_zip[T.98038]  8.607e+04   1.89e+04      4.551      0.000     4.9e+04    1.23e+05\n",
      "cat_zip[T.98039]   1.88e+06   4.27e+04     44.001      0.000     1.8e+06    1.96e+06\n",
      "cat_zip[T.98040]  9.141e+05   2.25e+04     40.627      0.000     8.7e+05    9.58e+05\n",
      "cat_zip[T.98042]  3.083e+04   1.92e+04      1.607      0.108   -6777.630    6.84e+04\n",
      "cat_zip[T.98045]  1.587e+05   2.42e+04      6.563      0.000    1.11e+05    2.06e+05\n",
      "cat_zip[T.98052]  3.644e+05    1.9e+04     19.169      0.000    3.27e+05    4.02e+05\n",
      "cat_zip[T.98053]  3.975e+05   2.05e+04     19.400      0.000    3.57e+05    4.38e+05\n",
      "cat_zip[T.98055]  2.346e+04   2.28e+04      1.028      0.304   -2.13e+04    6.82e+04\n",
      "cat_zip[T.98056]  1.401e+05   2.05e+04      6.841      0.000       1e+05     1.8e+05\n",
      "cat_zip[T.98058]  7.281e+04      2e+04      3.650      0.000    3.37e+04    1.12e+05\n",
      "cat_zip[T.98059]  2.128e+05   1.98e+04     10.734      0.000    1.74e+05    2.52e+05\n",
      "cat_zip[T.98065]  2.472e+05   2.19e+04     11.277      0.000    2.04e+05     2.9e+05\n",
      "cat_zip[T.98070]  2.067e+05      3e+04      6.883      0.000    1.48e+05    2.66e+05\n",
      "cat_zip[T.98072]  2.893e+05   2.27e+04     12.740      0.000    2.45e+05    3.34e+05\n",
      "cat_zip[T.98074]  4.049e+05   2.01e+04     20.153      0.000    3.65e+05    4.44e+05\n",
      "cat_zip[T.98075]  5.099e+05   2.11e+04     24.168      0.000    4.69e+05    5.51e+05\n",
      "cat_zip[T.98077]  4.021e+05    2.5e+04     16.059      0.000    3.53e+05    4.51e+05\n",
      "cat_zip[T.98092]  5.412e+04   2.12e+04      2.550      0.011    1.25e+04    9.57e+04\n",
      "cat_zip[T.98102]  6.207e+05   3.14e+04     19.769      0.000    5.59e+05    6.82e+05\n",
      "cat_zip[T.98103]  3.042e+05   1.88e+04     16.149      0.000    2.67e+05    3.41e+05\n",
      "cat_zip[T.98105]  5.824e+05   2.39e+04     24.351      0.000    5.36e+05    6.29e+05\n",
      "cat_zip[T.98106]  3.878e+04   2.15e+04      1.806      0.071   -3316.278    8.09e+04\n",
      "cat_zip[T.98107]  2.983e+05   2.29e+04     13.040      0.000    2.53e+05    3.43e+05\n",
      "cat_zip[T.98108]  7.487e+04   2.56e+04      2.930      0.003    2.48e+04    1.25e+05\n",
      "cat_zip[T.98109]  5.993e+05   3.09e+04     19.364      0.000    5.39e+05     6.6e+05\n",
      "cat_zip[T.98112]  8.154e+05   2.28e+04     35.761      0.000    7.71e+05     8.6e+05\n",
      "cat_zip[T.98115]  3.391e+05    1.9e+04     17.892      0.000    3.02e+05    3.76e+05\n",
      "cat_zip[T.98116]  3.379e+05   2.16e+04     15.672      0.000    2.96e+05     3.8e+05\n",
      "cat_zip[T.98117]   2.96e+05   1.92e+04     15.458      0.000    2.58e+05    3.34e+05\n",
      "cat_zip[T.98118]  1.368e+05   1.95e+04      7.023      0.000    9.87e+04    1.75e+05\n",
      "cat_zip[T.98119]  5.689e+05   2.56e+04     22.183      0.000    5.19e+05    6.19e+05\n",
      "cat_zip[T.98122]  3.538e+05   2.23e+04     15.846      0.000     3.1e+05    3.98e+05\n",
      "cat_zip[T.98125]  1.887e+05   2.04e+04      9.236      0.000    1.49e+05    2.29e+05\n",
      "cat_zip[T.98126]  1.439e+05   2.12e+04      6.798      0.000    1.02e+05    1.85e+05\n",
      "cat_zip[T.98133]  1.062e+05   1.96e+04      5.418      0.000    6.78e+04    1.45e+05\n",
      "cat_zip[T.98136]   2.71e+05    2.3e+04     11.806      0.000    2.26e+05    3.16e+05\n",
      "cat_zip[T.98144]  3.139e+05   2.13e+04     14.706      0.000    2.72e+05    3.56e+05\n",
      "cat_zip[T.98146]  7.869e+04   2.24e+04      3.518      0.000    3.49e+04    1.23e+05\n",
      "cat_zip[T.98148]  4103.9059   4.04e+04      0.102      0.919    -7.5e+04    8.32e+04\n",
      "cat_zip[T.98155]  1.429e+05      2e+04      7.133      0.000    1.04e+05    1.82e+05\n",
      "cat_zip[T.98166]  1.835e+05   2.32e+04      7.915      0.000    1.38e+05    2.29e+05\n",
      "cat_zip[T.98168] -4.048e+04   2.28e+04     -1.775      0.076   -8.52e+04    4218.197\n",
      "cat_zip[T.98177]  3.956e+05   2.32e+04     17.083      0.000     3.5e+05    4.41e+05\n",
      "cat_zip[T.98178]  2.981e+04    2.3e+04      1.297      0.195   -1.52e+04    7.48e+04\n",
      "cat_zip[T.98188]  8273.6550   2.85e+04      0.290      0.772   -4.76e+04    6.41e+04\n",
      "cat_zip[T.98198]  2.209e+04   2.25e+04      0.980      0.327   -2.21e+04    6.63e+04\n",
      "cat_zip[T.98199]  5.114e+05   2.18e+04     23.469      0.000    4.69e+05    5.54e+05\n",
      "==============================================================================\n",
      "Omnibus:                    21644.568   Durbin-Watson:                   1.967\n",
      "Prob(Omnibus):                  0.000   Jarque-Bera (JB):          2681972.082\n",
      "Skew:                           4.658   Prob(JB):                         0.00\n",
      "Kurtosis:                      56.772   Cond. No.                         65.9\n",
      "==============================================================================\n",
      "\n",
      "Warnings:\n",
      "[1] Standard Errors assume that the covariance matrix of the errors is correctly specified.\n"
     ]
    }
   ],
   "source": [
    "m = ols('price ~ cat_zip',df).fit()\n",
    "print(m.summary())"
   ]
  },
  {
   "cell_type": "code",
   "execution_count": null,
   "metadata": {},
   "outputs": [],
   "source": [
    "# Interpreting coefficients\n",
    "Now that we have converted the zipcode column to categorical variables, and run the One-Way ANOVA, we can see that there \n",
    "are differences between different zipcode values. Looking at the p-value under P>|t| we can see that most zipcodes are so\n",
    "small that they are close to 0.000 This means that they are statistically significant and the means do differ and are \n",
    "unequal. This can be interpreted as the zipcode is a statistically significant predictor of price. \n",
    "\n",
    "This means that the difference is not statistically significant and we can't reject the hypothesis that their means are equal. \n",
    "\n",
    "\n",
    "The computed F-statistic is 214.6 Typically a high F-value means that your data does not support the null hypothesis well. This means that we reject the null hypothesis and that there is statistical significance between price of a property and location. "
   ]
  },
  {
   "cell_type": "code",
   "execution_count": 21,
   "metadata": {},
   "outputs": [
    {
     "data": {
      "image/jpeg": "[encoded data removed]",
      "text/plain": [
       "<IPython.core.display.Image object>"
      ]
     },
     "execution_count": 21,
     "metadata": {},
     "output_type": "execute_result"
    }
   ],
   "source": [
    "# Zipcodes of p-values greater than 0.05\n",
    "from IPython.display import Image\n",
    "img = 'C:/Users/jwhoj/Desktop/LoanDocs/nullzip.jpg'\n",
    "Image(filename=img)"
   ]
  }
 ],
 "metadata": {
  "kernelspec": {
   "display_name": "Python 3",
   "language": "python",
   "name": "python3"
  },
  "language_info": {
   "codemirror_mode": {
    "name": "ipython",
    "version": 3
   },
   "file_extension": ".py",
   "mimetype": "text/x-python",
   "name": "python",
   "nbconvert_exporter": "python",
   "pygments_lexer": "ipython3",
   "version": "3.7.1"
  }
 },
 "nbformat": 4,
 "nbformat_minor": 2
}
